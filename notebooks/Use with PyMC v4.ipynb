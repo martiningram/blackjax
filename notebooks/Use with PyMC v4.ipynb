{
 "cells": [
  {
   "cell_type": "markdown",
   "id": "cc9d7129",
   "metadata": {
    "id": "397995ab"
   },
   "source": [
    "# Use BlackJAX with PyMC v4\n",
    "Author: Martin Ingram, based on the notebook for PyMC3 by Kaustubh Chaudhari"
   ]
  },
  {
   "cell_type": "code",
   "execution_count": 1,
   "id": "b260c3fa",
   "metadata": {
    "id": "3a905211"
   },
   "outputs": [
    {
     "name": "stderr",
     "output_type": "stream",
     "text": [
      "You are running the v4 development version of PyMC which currently still lacks key features. You probably want to use the stable v3 instead which you can either install via conda or find on the v3 GitHub branch: https://github.com/pymc-devs/pymc/tree/v3\n"
     ]
    },
    {
     "name": "stdout",
     "output_type": "stream",
     "text": [
      "Running on PyMC3 v4.0.0\n"
     ]
    },
    {
     "name": "stderr",
     "output_type": "stream",
     "text": [
      "/home/martin/miniconda3/envs/dl/lib/python3.8/site-packages/aesara/link/jax/dispatch.py:86: UserWarning: JAX omnistaging couldn't be disabled: Disabling of omnistaging is no longer supported in JAX version 0.2.12 and higher: see https://github.com/google/jax/blob/master/design_notes/omnistaging.md.\n",
      "  warnings.warn(f\"JAX omnistaging couldn't be disabled: {e}\")\n",
      "/home/martin/miniconda3/envs/dl/lib/python3.8/site-packages/pymc/sampling_jax.py:34: UserWarning: This module is experimental.\n",
      "  warnings.warn(\"This module is experimental.\")\n"
     ]
    }
   ],
   "source": [
    "import jax\n",
    "import pymc as pm\n",
    "from pymc.sampling_jax import get_jaxified_logp\n",
    "import numpy as np\n",
    "import blackjax.nuts as nuts\n",
    "import blackjax.stan_warmup as stan_warmup\n",
    "\n",
    "# Just for me to disable the GPU\n",
    "import os\n",
    "os.environ['CUDA_VISIBLE_DEVICES'] = ''\n",
    "\n",
    "print(f\"Running on PyMC3 v{pm.__version__}\")"
   ]
  },
  {
   "cell_type": "markdown",
   "id": "05f0126b",
   "metadata": {
    "id": "8VrYFaoIX--y"
   },
   "source": [
    "## Data\n",
    "\n",
    "Please refer to the [original TFP example](https://www.tensorflow.org/probability/examples/Eight_Schools) for a description of the problem and the model that is used."
   ]
  },
  {
   "cell_type": "code",
   "execution_count": 2,
   "id": "0b6aaeb6",
   "metadata": {
    "id": "imotOe9sUNYF"
   },
   "outputs": [],
   "source": [
    "# Data of the Eight Schools Model\n",
    "J = 8\n",
    "y = np.array([28.0, 8.0, -3.0, 7.0, -1.0, 1.0, 18.0, 12.0])\n",
    "sigma = np.array([15.0, 10.0, 16.0, 11.0, 9.0, 11.0, 10.0, 18.0])"
   ]
  },
  {
   "cell_type": "markdown",
   "id": "5693278e",
   "metadata": {
    "id": "aabSQ11iYGZw"
   },
   "source": [
    "# Model\n"
   ]
  },
  {
   "cell_type": "code",
   "execution_count": 3,
   "id": "e82b0be9",
   "metadata": {
    "id": "PiBv9iOvRK0f"
   },
   "outputs": [],
   "source": [
    "with pm.Model() as model:\n",
    "\n",
    "    mu = pm.Normal(\"mu\", mu=0.0, sigma=10.0)\n",
    "    tau = pm.HalfCauchy(\"tau\", 5.0)\n",
    "\n",
    "    theta = pm.Normal(\"theta\", mu=0, sigma=1, shape=J)\n",
    "    theta_1 = mu + tau * theta\n",
    "    obs = pm.Normal(\"obs\", mu=theta, sigma=sigma, shape=J, observed=y)"
   ]
  },
  {
   "cell_type": "code",
   "execution_count": 4,
   "id": "635e7369",
   "metadata": {},
   "outputs": [],
   "source": [
    "chains = 4\n",
    "n_warmup = 1000\n",
    "n_samples = 50_000"
   ]
  },
  {
   "cell_type": "markdown",
   "id": "1af0a7f0",
   "metadata": {
    "id": "VKMdLEu1Y5jb"
   },
   "source": [
    "# Sampling using PyMC NUTS Sampler"
   ]
  },
  {
   "cell_type": "code",
   "execution_count": 5,
   "id": "d69ddad1",
   "metadata": {
    "colab": {
     "base_uri": "https://localhost:8080/",
     "height": 244
    },
    "id": "0ZyMxwLFY_ZI",
    "outputId": "793af037-31e4-4e55-9c76-231c9d78532d"
   },
   "outputs": [
    {
     "name": "stderr",
     "output_type": "stream",
     "text": [
      "Auto-assigning NUTS sampler...\n",
      "Initializing NUTS using jitter+adapt_diag...\n",
      "/home/martin/miniconda3/envs/dl/lib/python3.8/site-packages/pymc/model.py:925: FutureWarning: `Model.initial_point` has been deprecated. Use `Model.recompute_initial_point(seed=None)`.\n",
      "  warnings.warn(\n",
      "Multiprocess sampling (4 chains in 4 jobs)\n",
      "NUTS: [mu, tau, theta]\n",
      "/home/martin/miniconda3/envs/dl/lib/python3.8/site-packages/pymc/model.py:925: FutureWarning: `Model.initial_point` has been deprecated. Use `Model.recompute_initial_point(seed=None)`.\n",
      "  warnings.warn(\n"
     ]
    },
    {
     "data": {
      "text/html": [
       "\n",
       "    <div>\n",
       "        <style>\n",
       "            /* Turns off some styling */\n",
       "            progress {\n",
       "                /* gets rid of default border in Firefox and Opera. */\n",
       "                border: none;\n",
       "                /* Needs to be in here for Safari polyfill so background images work as expected. */\n",
       "                background-size: auto;\n",
       "            }\n",
       "            .progress-bar-interrupted, .progress-bar-interrupted::-webkit-progress-bar {\n",
       "                background: #F44336;\n",
       "            }\n",
       "        </style>\n",
       "      <progress value='204000' class='' max='204000' style='width:300px; height:20px; vertical-align: middle;'></progress>\n",
       "      100.00% [204000/204000 00:49<00:00 Sampling 4 chains, 0 divergences]\n",
       "    </div>\n",
       "    "
      ],
      "text/plain": [
       "<IPython.core.display.HTML object>"
      ]
     },
     "metadata": {},
     "output_type": "display_data"
    },
    {
     "name": "stderr",
     "output_type": "stream",
     "text": [
      "Sampling 4 chains for 1_000 tune and 50_000 draw iterations (4_000 + 200_000 draws total) took 50 seconds.\n"
     ]
    },
    {
     "name": "stdout",
     "output_type": "stream",
     "text": [
      "CPU times: user 37.5 s, sys: 2.28 s, total: 39.7 s\n",
      "Wall time: 59.6 s\n"
     ]
    }
   ],
   "source": [
    "%%time\n",
    "\n",
    "with model:\n",
    "    posterior = pm.sample(draws=n_samples, tune=n_warmup, chains=chains)"
   ]
  },
  {
   "cell_type": "markdown",
   "id": "14d220c4",
   "metadata": {
    "id": "3I6zXC-JZCfs"
   },
   "source": [
    "# Sampling using PyMC JAX Numpyro NUTS sampler"
   ]
  },
  {
   "cell_type": "code",
   "execution_count": 6,
   "id": "de0ad319",
   "metadata": {
    "colab": {
     "base_uri": "https://localhost:8080/"
    },
    "id": "daQ5OO6aZS9t",
    "outputId": "d865c9dc-45ae-4baa-c643-f145492ea4ab"
   },
   "outputs": [
    {
     "name": "stdout",
     "output_type": "stream",
     "text": [
      "Compiling...\n"
     ]
    },
    {
     "name": "stderr",
     "output_type": "stream",
     "text": [
      "/home/martin/miniconda3/envs/dl/lib/python3.8/site-packages/pymc/model.py:925: FutureWarning: `Model.initial_point` has been deprecated. Use `Model.recompute_initial_point(seed=None)`.\n",
      "  warnings.warn(\n",
      "/home/martin/miniconda3/envs/dl/lib/python3.8/site-packages/aesara/graph/opt.py:232: UserWarning: Supervisor is not added. Please build a FunctionGraphvia aesara.compile.function.types.std_graph()or add the Supervisor class manually.\n",
      "  sub_prof = optimizer.optimize(fgraph)\n"
     ]
    },
    {
     "name": "stdout",
     "output_type": "stream",
     "text": [
      "Compilation time =  0 days 00:00:00.336274\n",
      "Sampling...\n"
     ]
    },
    {
     "name": "stderr",
     "output_type": "stream",
     "text": [
      "2022-01-11 13:00:57.547356: E external/org_tensorflow/tensorflow/stream_executor/cuda/cuda_driver.cc:328] failed call to cuInit: CUDA_ERROR_NO_DEVICE: no CUDA-capable device is detected\n"
     ]
    },
    {
     "data": {
      "application/vnd.jupyter.widget-view+json": {
       "model_id": "b18a474f41a0450f93aab54277d1243a",
       "version_major": 2,
       "version_minor": 0
      },
      "text/plain": [
       "  0%|          | 0/51000 [00:00<?, ?it/s]"
      ]
     },
     "metadata": {},
     "output_type": "display_data"
    },
    {
     "data": {
      "application/vnd.jupyter.widget-view+json": {
       "model_id": "8b24a92a675e4a5e804d9f51e89d318d",
       "version_major": 2,
       "version_minor": 0
      },
      "text/plain": [
       "  0%|          | 0/51000 [00:00<?, ?it/s]"
      ]
     },
     "metadata": {},
     "output_type": "display_data"
    },
    {
     "data": {
      "application/vnd.jupyter.widget-view+json": {
       "model_id": "1b5794d99ea84de495d9a593a41be0ee",
       "version_major": 2,
       "version_minor": 0
      },
      "text/plain": [
       "  0%|          | 0/51000 [00:00<?, ?it/s]"
      ]
     },
     "metadata": {},
     "output_type": "display_data"
    },
    {
     "data": {
      "application/vnd.jupyter.widget-view+json": {
       "model_id": "4d630d1f728a47f5af4620f06a11d4e2",
       "version_major": 2,
       "version_minor": 0
      },
      "text/plain": [
       "  0%|          | 0/51000 [00:00<?, ?it/s]"
      ]
     },
     "metadata": {},
     "output_type": "display_data"
    },
    {
     "name": "stdout",
     "output_type": "stream",
     "text": [
      "Sampling time =  0 days 00:00:03.088836\n",
      "Transforming variables...\n",
      "Transformation time =  0 days 00:00:00.024455\n",
      "CPU times: user 4.45 s, sys: 188 ms, total: 4.64 s\n",
      "Wall time: 3.56 s\n"
     ]
    },
    {
     "name": "stderr",
     "output_type": "stream",
     "text": [
      "/home/martin/miniconda3/envs/dl/lib/python3.8/site-packages/aesara/graph/opt.py:232: UserWarning: Supervisor is not added. Please build a FunctionGraphvia aesara.compile.function.types.std_graph()or add the Supervisor class manually.\n",
      "  sub_prof = optimizer.optimize(fgraph)\n"
     ]
    }
   ],
   "source": [
    "%%time\n",
    "\n",
    "with model:\n",
    "    hierarchical_trace_jax = pm.sampling_jax.sample_numpyro_nuts(\n",
    "        n_samples, target_accept=0.9, chains=chains, tune=n_warmup \n",
    "    )"
   ]
  },
  {
   "cell_type": "markdown",
   "id": "7c7a7a72",
   "metadata": {
    "id": "h8cMqFwiZjxS"
   },
   "source": [
    "# Sampling using BlackJax\n",
    "\n",
    "## Configuring the model for BlackJax\n"
   ]
  },
  {
   "cell_type": "code",
   "execution_count": 7,
   "id": "e0dcad4d",
   "metadata": {
    "id": "cTlcZCYmidZ6"
   },
   "outputs": [],
   "source": [
    "seed = jax.random.PRNGKey(1234)\n",
    "\n",
    "logp_fn_jax = get_jaxified_logp(model)\n",
    "\n",
    "rv_names = [rv.name for rv in model.value_vars]\n",
    "initial_point = model.recompute_initial_point()\n",
    "init_state = [initial_point[rv_name] for rv_name in rv_names]\n",
    "init_state_batched = jax.tree_map(lambda x: np.repeat(x[None, ...], chains, axis=0), init_state)\n",
    "\n",
    "initial_state = jax.vmap(nuts.new_state, in_axes=(0, None))(init_state_batched, logp_fn_jax)"
   ]
  },
  {
   "cell_type": "code",
   "execution_count": 9,
   "id": "7a3ddbdb",
   "metadata": {},
   "outputs": [
    {
     "name": "stdout",
     "output_type": "stream",
     "text": [
      "CPU times: user 17.3 s, sys: 18.7 ms, total: 17.3 s\n",
      "Wall time: 17.3 s\n"
     ]
    }
   ],
   "source": [
    "%%time\n",
    "\n",
    "# Warmup\n",
    "kernel_factory = lambda step_size, inverse_mass_matrix: nuts.kernel(\n",
    "    logp_fn_jax, step_size, inverse_mass_matrix\n",
    ")\n",
    "\n",
    "init_seeds = jax.random.split(seed, 4)\n",
    "\n",
    "warmup_fn = lambda seed, init_state: stan_warmup.run(seed, kernel_factory, init_state, n_warmup)\n",
    "\n",
    "last_state, (step_size, inverse_mass_matrix), _ = jax.vmap(warmup_fn)(init_seeds, initial_state)"
   ]
  },
  {
   "cell_type": "code",
   "execution_count": 10,
   "id": "a3218352",
   "metadata": {},
   "outputs": [
    {
     "name": "stdout",
     "output_type": "stream",
     "text": [
      "CPU times: user 7.55 s, sys: 91.8 ms, total: 7.64 s\n",
      "Wall time: 7.45 s\n"
     ]
    }
   ],
   "source": [
    "%%time\n",
    "\n",
    "# Sampling\n",
    "def inner_inference_loop(\n",
    "    rng_key, step_size, inverse_mass_matrix, initial_state, num_samples, kernel_factory\n",
    "):\n",
    "    \n",
    "    kernel = kernel_factory(step_size, inverse_mass_matrix)\n",
    "    \n",
    "    def one_step(state, rng_key):\n",
    "        \n",
    "        key = jax.random.split(rng_key, 2)\n",
    "        \n",
    "        state, info = kernel(key, state)\n",
    "        \n",
    "        return state, (state, info)\n",
    "    \n",
    "    keys = jax.random.split(rng_key, num_samples)\n",
    "    \n",
    "    _, states = jax.lax.scan(one_step, initial_state, keys)\n",
    "    \n",
    "    return states\n",
    "\n",
    "from functools import partial\n",
    "\n",
    "to_vmap = partial(inner_inference_loop, num_samples=n_samples, kernel_factory=kernel_factory)\n",
    "\n",
    "# TODO: need a new seed maybe?\n",
    "start_keys = jax.random.split(seed, 4)\n",
    "\n",
    "results = jax.vmap(to_vmap)(start_keys, step_size, inverse_mass_matrix, last_state)"
   ]
  },
  {
   "cell_type": "code",
   "execution_count": null,
   "id": "c92cc603",
   "metadata": {},
   "outputs": [],
   "source": []
  }
 ],
 "metadata": {
  "colab": {
   "collapsed_sections": [],
   "name": "use_with_pymc3.ipynb",
   "provenance": []
  },
  "kernelspec": {
   "display_name": "Python 3 (ipykernel)",
   "language": "python",
   "name": "python3"
  },
  "language_info": {
   "codemirror_mode": {
    "name": "ipython",
    "version": 3
   },
   "file_extension": ".py",
   "mimetype": "text/x-python",
   "name": "python",
   "nbconvert_exporter": "python",
   "pygments_lexer": "ipython3",
   "version": "3.8.12"
  },
  "metadata": {
   "interpreter": {
    "hash": "da83a268153c84bc9ca9703c2cea4521d98c583fc99858c9f792a1bd45c27e3c"
   }
  }
 },
 "nbformat": 4,
 "nbformat_minor": 5
}
